{
 "cells": [
  {
   "cell_type": "markdown",
   "metadata": {},
   "source": [
    "## Report: act_report\n"
   ]
  },
  {
   "cell_type": "markdown",
   "metadata": {},
   "source": [
    "### Making Sense of the twitter archive data"
   ]
  },
  {
   "cell_type": "markdown",
   "metadata": {},
   "source": [
    "Looking at the twitter archive data containing about 2000 dog tweets (cleaned data) that contain dog pictures and their rating by #WeDogRates.  [WeDogRates](ttps://twitter.com/dog_rates/status/). The csv file was handled using python and its extended libraries\n",
    "\n",
    "When starting to analyze the data i had initial assumptions to begin with:\n",
    "\n",
    "- Dogs rating majorly depended on the kind of picture posted\n",
    "- There are some certain dog type that have higher rating than others\n",
    "- Tweets with a lot of retweets and favourites usually get a higher rating.\n",
    "\n",
    "All these were assumped with the understanding of #WeRateDogs rating system which could be read here, [Rating System](https://knowyourmeme.com/memes/theyre-good-dogs-brent)\n",
    "\n",
    "All charts were created using python libraries: seaborn and matplotlib\n",
    "\n",
    "\n",
    "#### Do Dog rates majorly depend on the kind of picture posted? \n",
    "\n",
    "In responding to the first assumption, i transformed the data, getting the total number attributed to each rating, i found that there were results with ratings greater than 15/10 also a very unusual rating of 1776/10.\n",
    "\n",
    "<img src=\"dog/rate.png\" alt=\"Drawing\" style=\"width: 600px; height: 300px\" />\n",
    "\n",
    "Further analyzing why some ratings are far too high, i found that some of the ratings were in a multiple format where finding the highest common factor reduces it to the normal dog rating while.\n",
    "\n",
    "The very unsual 1776/10 dog rating was visualized and it was found that indeeed the dog deserved the rating as it was wearing clothes of the American Flag thus the numerator was the year of American Independence, 1776 <img src=\"dog/CmgBZ7kWcAAlzFD.jpg\" width=\"250\" height=\"200\">  #WeDogRates decided to give it a rating score of the independece day of America.\n",
    "\n",
    "\n",
    "\n",
    "Ratings that were in multiples which could be reduced to their highest common factors like 165,150(11/10), 144,100(12,10) were actually a multiple of the number of dogs in the picture that was rated. \n",
    "<table><tr>\n",
    "<td> <img src=\"dog/download (3).png\" alt=\"Drawing\" style=\"width: 250px; height: 200px\" /> </td>\n",
    "<td> <img src=\"dog/download (4).png\" alt=\"Drawing\" style=\"width: 250px; height: 200px\"/> </td>\n",
    "<td> <img src=\"dog/download (5).png\" alt=\"Drawing\" style=\"width: 250px; height: 200px\" /> </td>\n",
    "<td> <img src=\"dog/download (6).png\" alt=\"Drawing\" style=\"width: 250px; height: 200px\"/> </td>    \n",
    "</tr></table>\n",
    "\n",
    "In plotting the distribution of the counts for ratings, ratings above 10 seem to gain the upper hand.\n",
    "\n",
    "<img src=\"dog/count per rating.png\" alt=\"Drawing\" style=\"width: 450px; height: 250px\" />\n",
    "\n",
    "In trying to get why some pictures received a lower rating, i visualized ratings that received a very low rating and found out that most of the pictures were not pictures of dogs but other animals or things, pictures involving plagiarism (a 0/10 rating was given), and funny pictures of dogs that looked absurd\n",
    "\n",
    "<table><tr>\n",
    "<td> <img src=\"dog/notdog1.png\" alt=\"Drawing\" style=\"width: 250px; height: 200px\" /> </td>\n",
    "<td> <img src=\"dog/notdog2.png\" alt=\"Drawing\" style=\"width: 250px; height: 200px\" /> </td>   \n",
    "<td> <img src=\"dog/notdog3.png\" alt=\"Drawing\" style=\"width: 250px; height: 200px\" /> </td>\n",
    "<td> <img src=\"dog/notdog4.png\" alt=\"Drawing\" style=\"width: 250px; height: 200px\" /> </td>\n",
    "<td> <img src=\"dog/notdog5.png\" alt=\"Drawing\" style=\"width: 250px; height: 200px\" /> </td>\n",
    "<td> <img src=\"dog/notdog6.png\" alt=\"Drawing\" style=\"width: 250px; height: 200px\" /> </td>\n",
    "</tr></table>"
   ]
  },
  {
   "cell_type": "markdown",
   "metadata": {},
   "source": [
    "#### Is there a relationship between the favourite and retweet count with the dog ratings?\n",
    "\n",
    "In trying to understand this relationship, i removed the ratings that were in multiple format  to get a better visualization.\n",
    "\n",
    "I Grouped the data into the ratings and got their mean favourite and retweet count, then visualized it.\n",
    "\n",
    "<table><tr>\n",
    "<td> <img src=\"dog/retweet.png\" alt=\"Drawing\" style=\"width: 350px; height: 200px\" /> </td>\n",
    "<td> <img src=\"dog/favourite.png\" alt=\"Drawing\" style=\"width: 350px; height: 200px\" /> </td>   \n",
    "</tr></table>\n",
    "\n",
    "From the visualizations, it can be seen that there is truly a strong relationship, were the higher the rating the more the favorite and retweet for the rating.\n",
    "\n",
    "Also it observed that the rating with 0/10 has a high count also, in viewing the tweet it was found that plagiarism was involved and the people didn't support it, so they gave their likes and retweet to spread the news that plagiarism is not a good practice"
   ]
  },
  {
   "cell_type": "markdown",
   "metadata": {},
   "source": [
    "#### Do some certain dogs have higher ratings?\n",
    "\n",
    "    I was just curious about the dog type that beat up the game and voila, the doggos and puppos were up the game they had    the highest mean count\n",
    "\n",
    "\n",
    "<img src=\"dog/count per rating.png\" alt=\"Drawing\" style=\"width: 450px; height: 250px\" />\n",
    "\n",
    "\n",
    "    Here are some doggos\n",
    "    \n",
    "<table><tr>\n",
    "<td> <img src=\"dog/doggo1.png\" alt=\"Drawing\" style=\"width: 350px; height: 250px\" /> </td>\n",
    "<td> <img src=\"dog/doggo2.png\" alt=\"Drawing\" style=\"width: 350px; height: 250px\" /> </td> \n",
    "<td> <img src=\"dog/doggo3.png\" alt=\"Drawing\" style=\"width: 350px; height: 250px\" /> </td>\n",
    "<td> <img src=\"dog/doggo4.png\" alt=\"Drawing\" style=\"width: 350px; height: 250px\" /> </td>  \n",
    " \n",
    "</tr></table>\n",
    "\n",
    "    Here are some puppos\n",
    "    \n",
    "<table><tr>\n",
    "<td> <img src=\"dog/puppo1.png\" alt=\"Drawing\" style=\"width: 350px; height: 250px\" /> </td>\n",
    "<td> <img src=\"dog/puppo2.png\" alt=\"Drawing\" style=\"width: 350px; height: 250px\" /> </td> \n",
    "<td> <img src=\"dog/puppo3.png\" alt=\"Drawing\" style=\"width: 350px; height: 250px\" /> </td>\n",
    "<td> <img src=\"dog/puppo4.png\" alt=\"Drawing\" style=\"width: 350px; height: 250px\" /> </td>  \n",
    " \n",
    "</tr></table>"
   ]
  },
  {
   "cell_type": "markdown",
   "metadata": {},
   "source": [
    "#### Do the text tell you anything about the rating?\n",
    "\n",
    "Being curious also about the text which couldnt leave my mind, i decided to analyze the tweet text, I created a Word Cloud of words.\n",
    "\n",
    "Words that had a lower rating and words with a high ratings and see if the words used in the tweet can give an indication of the rating of the dog pictures.\n",
    "\n",
    "Low ratings tweet gave the WordCloud\n",
    "\n",
    "<img src=\"dog/low rating.png\" alt=\"Drawing\" style=\"width: 450px; height: 250px\" />\n",
    "\n",
    "While high rating words gave the WordCloud\n",
    "\n",
    "<img src=\"dog/high rating.png\" alt=\"Drawing\" style=\"width: 450px; height: 250px\" />\n",
    "\n",
    "From the WordCloud it was found that the text alone can give an hint of the rating to be awarded but not to a high degree.\n",
    "\n",
    "Words like `good`, `best`,`meet`, `boy`, `help` in the text can get a high score in their rating of the picture, while words like `bark`,`leg`,`rare`,`tail`,`bad` in the text can get a low score in their rating of the picture."
   ]
  },
  {
   "cell_type": "markdown",
   "metadata": {},
   "source": [
    "Analysing the data further, i fould out that there were some top dog breeds that #WeDogRates had rated in the past years..\n",
    "With golden retreiver dog breed toping the list followed by Labrador retrievers, then Pembroke, Chihuahua, Pug,...\n",
    "\n",
    "<img src=\"dog/dog breed.png\" alt=\"Drawing\" style=\"width: 650px; height: 350px\" />\n"
   ]
  },
  {
   "cell_type": "code",
   "execution_count": null,
   "metadata": {},
   "outputs": [],
   "source": []
  }
 ],
 "metadata": {
  "kernelspec": {
   "display_name": "Python 3",
   "language": "python",
   "name": "python3"
  },
  "language_info": {
   "codemirror_mode": {
    "name": "ipython",
    "version": 3
   },
   "file_extension": ".py",
   "mimetype": "text/x-python",
   "name": "python",
   "nbconvert_exporter": "python",
   "pygments_lexer": "ipython3",
   "version": "3.8.5"
  }
 },
 "nbformat": 4,
 "nbformat_minor": 2
}
